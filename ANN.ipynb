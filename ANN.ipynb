{
 "cells": [
  {
   "attachments": {},
   "cell_type": "markdown",
   "metadata": {},
   "source": [
    "Churn Modelling For Bank Customer"
   ]
  },
  {
   "cell_type": "code",
   "execution_count": 45,
   "metadata": {},
   "outputs": [],
   "source": [
    "# importing libraries\n",
    "import numpy as np\n",
    "import matplotlib.pyplot as plt\n",
    "import pandas as pd\n",
    "import sklearn"
   ]
  },
  {
   "cell_type": "code",
   "execution_count": 46,
   "metadata": {},
   "outputs": [],
   "source": [
    "df = pd.read_csv('Churn_Modelling.csv')\n",
    "X = df.iloc[:,3:13]\n",
    "y = df.iloc[:,13]"
   ]
  },
  {
   "attachments": {},
   "cell_type": "markdown",
   "metadata": {},
   "source": [
    "Data Pre-Processing"
   ]
  },
  {
   "cell_type": "code",
   "execution_count": 47,
   "metadata": {},
   "outputs": [],
   "source": [
    "# creating dummy variables for goegraphy and gender (since categorical)\n",
    "geography = pd.get_dummies(X[\"Geography\"],drop_first=True)\n",
    "gender = pd.get_dummies(X[\"Gender\"],drop_first=True)\n",
    "\n",
    "# concatinating the Data Frames\n",
    "X = pd.concat([X,geography,gender],axis=1)\n",
    "\n",
    "# Dropping Unnecessary columns\n",
    "X = X.drop(['Geography','Gender'],axis=1)\n"
   ]
  },
  {
   "cell_type": "code",
   "execution_count": 48,
   "metadata": {},
   "outputs": [],
   "source": [
    "# splitting data into traain-test split\n",
    "from sklearn.model_selection import train_test_split\n",
    "X_train, X_test, y_train, y_test = train_test_split(X,y,test_size=0.2,random_state=0)"
   ]
  },
  {
   "attachments": {},
   "cell_type": "markdown",
   "metadata": {},
   "source": [
    "Feature Scaling\n",
    "(if magnitude of x1,x2,x3 is different, multiplication and backpropagation happens quickly)"
   ]
  },
  {
   "cell_type": "code",
   "execution_count": 49,
   "metadata": {},
   "outputs": [],
   "source": [
    "from sklearn.preprocessing import StandardScaler\n",
    "sc = StandardScaler()\n",
    "X_train = sc.fit_transform(X_train)\n",
    "X_test = sc.fit_transform(X_test)"
   ]
  },
  {
   "attachments": {},
   "cell_type": "markdown",
   "metadata": {},
   "source": [
    "Creating the Artificial Neural Network"
   ]
  },
  {
   "cell_type": "code",
   "execution_count": 50,
   "metadata": {},
   "outputs": [],
   "source": [
    "# importing libraries\n",
    "import keras\n",
    "from keras.models import Sequential # responsible from creating the neural network\n",
    "from keras.layers import Dense  # to create hidden layers\n",
    "from keras.layers import LeakyReLU,PReLU,ELU # activation functions\n",
    "from keras.layers import Dropout  # regularization\n",
    "import tensorflow as tf"
   ]
  },
  {
   "cell_type": "code",
   "execution_count": 51,
   "metadata": {},
   "outputs": [
    {
     "name": "stdout",
     "output_type": "stream",
     "text": [
      "Epoch 1/100\n",
      "536/536 [==============================] - 2s 2ms/step - loss: 0.6098 - accuracy: 0.7061 - val_loss: 0.4708 - val_accuracy: 0.7944\n",
      "Epoch 2/100\n",
      "536/536 [==============================] - 1s 2ms/step - loss: 0.4853 - accuracy: 0.7966 - val_loss: 0.4573 - val_accuracy: 0.7970\n",
      "Epoch 3/100\n",
      "536/536 [==============================] - 1s 2ms/step - loss: 0.4694 - accuracy: 0.8022 - val_loss: 0.4484 - val_accuracy: 0.7970\n",
      "Epoch 4/100\n",
      "536/536 [==============================] - 1s 1ms/step - loss: 0.4483 - accuracy: 0.8065 - val_loss: 0.4360 - val_accuracy: 0.8065\n",
      "Epoch 5/100\n",
      "536/536 [==============================] - 1s 1ms/step - loss: 0.4426 - accuracy: 0.8155 - val_loss: 0.4294 - val_accuracy: 0.8122\n",
      "Epoch 6/100\n",
      "536/536 [==============================] - 2s 3ms/step - loss: 0.4356 - accuracy: 0.8147 - val_loss: 0.4250 - val_accuracy: 0.8114\n",
      "Epoch 7/100\n",
      "536/536 [==============================] - 1s 1ms/step - loss: 0.4323 - accuracy: 0.8205 - val_loss: 0.4157 - val_accuracy: 0.8205\n",
      "Epoch 8/100\n",
      "536/536 [==============================] - 1s 1ms/step - loss: 0.4257 - accuracy: 0.8224 - val_loss: 0.4093 - val_accuracy: 0.8205\n",
      "Epoch 9/100\n",
      "536/536 [==============================] - 1s 1ms/step - loss: 0.4184 - accuracy: 0.8302 - val_loss: 0.4018 - val_accuracy: 0.8247\n",
      "Epoch 10/100\n",
      "536/536 [==============================] - 1s 1ms/step - loss: 0.4098 - accuracy: 0.8309 - val_loss: 0.3973 - val_accuracy: 0.8281\n",
      "Epoch 11/100\n",
      "536/536 [==============================] - 1s 1ms/step - loss: 0.4087 - accuracy: 0.8330 - val_loss: 0.3915 - val_accuracy: 0.8326\n",
      "Epoch 12/100\n",
      "536/536 [==============================] - 1s 1ms/step - loss: 0.4120 - accuracy: 0.8289 - val_loss: 0.3910 - val_accuracy: 0.8315\n",
      "Epoch 13/100\n",
      "536/536 [==============================] - 1s 1ms/step - loss: 0.4023 - accuracy: 0.8311 - val_loss: 0.3888 - val_accuracy: 0.8338\n",
      "Epoch 14/100\n",
      "536/536 [==============================] - 1s 1ms/step - loss: 0.4002 - accuracy: 0.8337 - val_loss: 0.3863 - val_accuracy: 0.8345\n",
      "Epoch 15/100\n",
      "536/536 [==============================] - 1s 1ms/step - loss: 0.3959 - accuracy: 0.8384 - val_loss: 0.3847 - val_accuracy: 0.8360\n",
      "Epoch 16/100\n",
      "536/536 [==============================] - 1s 1ms/step - loss: 0.4004 - accuracy: 0.8349 - val_loss: 0.3837 - val_accuracy: 0.8353\n",
      "Epoch 17/100\n",
      "536/536 [==============================] - 1s 1ms/step - loss: 0.3954 - accuracy: 0.8332 - val_loss: 0.3831 - val_accuracy: 0.8360\n",
      "Epoch 18/100\n",
      "536/536 [==============================] - 1s 2ms/step - loss: 0.3971 - accuracy: 0.8330 - val_loss: 0.3811 - val_accuracy: 0.8372\n",
      "Epoch 19/100\n",
      "536/536 [==============================] - 1s 2ms/step - loss: 0.3921 - accuracy: 0.8345 - val_loss: 0.3813 - val_accuracy: 0.8379\n",
      "Epoch 20/100\n",
      "536/536 [==============================] - 1s 1ms/step - loss: 0.3881 - accuracy: 0.8405 - val_loss: 0.3800 - val_accuracy: 0.8391\n",
      "Epoch 21/100\n",
      "536/536 [==============================] - 1s 1ms/step - loss: 0.3860 - accuracy: 0.8380 - val_loss: 0.3805 - val_accuracy: 0.8387\n",
      "Epoch 22/100\n",
      "536/536 [==============================] - 1s 1ms/step - loss: 0.3859 - accuracy: 0.8418 - val_loss: 0.3792 - val_accuracy: 0.8387\n",
      "Epoch 23/100\n",
      "536/536 [==============================] - 1s 1ms/step - loss: 0.3786 - accuracy: 0.8433 - val_loss: 0.3824 - val_accuracy: 0.8360\n",
      "Epoch 24/100\n",
      "536/536 [==============================] - 1s 1ms/step - loss: 0.3855 - accuracy: 0.8410 - val_loss: 0.3828 - val_accuracy: 0.8383\n",
      "Epoch 25/100\n",
      "536/536 [==============================] - 1s 1ms/step - loss: 0.3847 - accuracy: 0.8384 - val_loss: 0.3816 - val_accuracy: 0.8376\n",
      "Epoch 26/100\n",
      "536/536 [==============================] - 1s 1ms/step - loss: 0.3828 - accuracy: 0.8403 - val_loss: 0.3796 - val_accuracy: 0.8395\n",
      "Epoch 27/100\n",
      "536/536 [==============================] - 1s 1ms/step - loss: 0.3815 - accuracy: 0.8418 - val_loss: 0.3824 - val_accuracy: 0.8395\n",
      "Epoch 28/100\n",
      "536/536 [==============================] - 1s 1ms/step - loss: 0.3831 - accuracy: 0.8399 - val_loss: 0.3807 - val_accuracy: 0.8391\n",
      "Epoch 29/100\n",
      "536/536 [==============================] - 1s 2ms/step - loss: 0.3777 - accuracy: 0.8416 - val_loss: 0.3816 - val_accuracy: 0.8383\n",
      "Epoch 30/100\n",
      "536/536 [==============================] - 1s 2ms/step - loss: 0.3810 - accuracy: 0.8410 - val_loss: 0.3822 - val_accuracy: 0.8357\n",
      "Epoch 31/100\n",
      "536/536 [==============================] - 1s 1ms/step - loss: 0.3785 - accuracy: 0.8461 - val_loss: 0.3781 - val_accuracy: 0.8429\n",
      "Epoch 32/100\n",
      "536/536 [==============================] - 1s 1ms/step - loss: 0.3792 - accuracy: 0.8440 - val_loss: 0.3793 - val_accuracy: 0.8413\n",
      "Epoch 33/100\n",
      "536/536 [==============================] - 1s 1ms/step - loss: 0.3812 - accuracy: 0.8408 - val_loss: 0.3795 - val_accuracy: 0.8372\n",
      "Epoch 34/100\n",
      "536/536 [==============================] - 1s 1ms/step - loss: 0.3755 - accuracy: 0.8459 - val_loss: 0.3797 - val_accuracy: 0.8383\n",
      "Epoch 35/100\n",
      "536/536 [==============================] - 1s 1ms/step - loss: 0.3828 - accuracy: 0.8416 - val_loss: 0.3829 - val_accuracy: 0.8349\n",
      "Epoch 36/100\n",
      "536/536 [==============================] - 1s 1ms/step - loss: 0.3735 - accuracy: 0.8459 - val_loss: 0.3780 - val_accuracy: 0.8391\n",
      "Epoch 37/100\n",
      "536/536 [==============================] - 1s 1ms/step - loss: 0.3772 - accuracy: 0.8427 - val_loss: 0.3780 - val_accuracy: 0.8421\n",
      "Epoch 38/100\n",
      "536/536 [==============================] - 1s 1ms/step - loss: 0.3700 - accuracy: 0.8479 - val_loss: 0.3777 - val_accuracy: 0.8413\n",
      "Epoch 39/100\n",
      "536/536 [==============================] - 1s 1ms/step - loss: 0.3740 - accuracy: 0.8434 - val_loss: 0.3761 - val_accuracy: 0.8440\n",
      "Epoch 40/100\n",
      "536/536 [==============================] - 1s 1ms/step - loss: 0.3717 - accuracy: 0.8429 - val_loss: 0.3801 - val_accuracy: 0.8338\n",
      "Epoch 41/100\n",
      "536/536 [==============================] - 1s 1ms/step - loss: 0.3745 - accuracy: 0.8433 - val_loss: 0.3818 - val_accuracy: 0.8357\n",
      "Epoch 42/100\n",
      "536/536 [==============================] - 1s 2ms/step - loss: 0.3688 - accuracy: 0.8464 - val_loss: 0.3761 - val_accuracy: 0.8406\n",
      "Epoch 43/100\n",
      "536/536 [==============================] - 1s 2ms/step - loss: 0.3693 - accuracy: 0.8451 - val_loss: 0.3754 - val_accuracy: 0.8413\n",
      "Epoch 44/100\n",
      "536/536 [==============================] - 1s 1ms/step - loss: 0.3669 - accuracy: 0.8470 - val_loss: 0.3779 - val_accuracy: 0.8398\n",
      "Epoch 45/100\n",
      "536/536 [==============================] - 1s 1ms/step - loss: 0.3687 - accuracy: 0.8479 - val_loss: 0.3759 - val_accuracy: 0.8391\n",
      "Epoch 46/100\n",
      "536/536 [==============================] - 1s 1ms/step - loss: 0.3715 - accuracy: 0.8438 - val_loss: 0.3817 - val_accuracy: 0.8349\n",
      "Epoch 47/100\n",
      "536/536 [==============================] - 1s 1ms/step - loss: 0.3773 - accuracy: 0.8446 - val_loss: 0.3834 - val_accuracy: 0.8368\n",
      "Epoch 48/100\n",
      "536/536 [==============================] - 1s 1ms/step - loss: 0.3678 - accuracy: 0.8431 - val_loss: 0.3769 - val_accuracy: 0.8432\n",
      "Epoch 49/100\n",
      "536/536 [==============================] - 1s 1ms/step - loss: 0.3708 - accuracy: 0.8434 - val_loss: 0.3781 - val_accuracy: 0.8372\n",
      "Epoch 50/100\n",
      "536/536 [==============================] - 1s 1ms/step - loss: 0.3648 - accuracy: 0.8490 - val_loss: 0.3767 - val_accuracy: 0.8402\n",
      "Epoch 51/100\n",
      "536/536 [==============================] - 1s 1ms/step - loss: 0.3674 - accuracy: 0.8485 - val_loss: 0.3794 - val_accuracy: 0.8402\n",
      "Epoch 52/100\n",
      "536/536 [==============================] - 1s 1ms/step - loss: 0.3696 - accuracy: 0.8466 - val_loss: 0.3749 - val_accuracy: 0.8451\n",
      "Epoch 53/100\n",
      "536/536 [==============================] - 1s 1ms/step - loss: 0.3766 - accuracy: 0.8421 - val_loss: 0.3734 - val_accuracy: 0.8455\n",
      "Epoch 54/100\n",
      "536/536 [==============================] - 1s 2ms/step - loss: 0.3717 - accuracy: 0.8434 - val_loss: 0.3781 - val_accuracy: 0.8413\n",
      "Epoch 55/100\n",
      "536/536 [==============================] - 1s 2ms/step - loss: 0.3646 - accuracy: 0.8449 - val_loss: 0.3762 - val_accuracy: 0.8410\n",
      "Epoch 56/100\n",
      "536/536 [==============================] - 1s 1ms/step - loss: 0.3680 - accuracy: 0.8457 - val_loss: 0.3765 - val_accuracy: 0.8406\n",
      "Epoch 57/100\n",
      "536/536 [==============================] - 1s 1ms/step - loss: 0.3705 - accuracy: 0.8451 - val_loss: 0.3760 - val_accuracy: 0.8391\n",
      "Epoch 58/100\n",
      "536/536 [==============================] - 1s 1ms/step - loss: 0.3651 - accuracy: 0.8489 - val_loss: 0.3796 - val_accuracy: 0.8387\n",
      "Epoch 59/100\n",
      "536/536 [==============================] - 1s 1ms/step - loss: 0.3643 - accuracy: 0.8498 - val_loss: 0.3740 - val_accuracy: 0.8444\n",
      "Epoch 60/100\n",
      "536/536 [==============================] - 1s 1ms/step - loss: 0.3694 - accuracy: 0.8438 - val_loss: 0.3761 - val_accuracy: 0.8429\n",
      "Epoch 61/100\n",
      "536/536 [==============================] - 1s 1ms/step - loss: 0.3713 - accuracy: 0.8440 - val_loss: 0.3775 - val_accuracy: 0.8387\n",
      "Epoch 62/100\n",
      "536/536 [==============================] - 1s 1ms/step - loss: 0.3624 - accuracy: 0.8507 - val_loss: 0.3740 - val_accuracy: 0.8448\n",
      "Epoch 63/100\n",
      "536/536 [==============================] - 1s 1ms/step - loss: 0.3676 - accuracy: 0.8446 - val_loss: 0.3790 - val_accuracy: 0.8406\n",
      "Epoch 64/100\n",
      "536/536 [==============================] - 1s 1ms/step - loss: 0.3683 - accuracy: 0.8483 - val_loss: 0.3780 - val_accuracy: 0.8391\n",
      "Epoch 65/100\n",
      "536/536 [==============================] - 1s 1ms/step - loss: 0.3609 - accuracy: 0.8494 - val_loss: 0.3821 - val_accuracy: 0.8387\n",
      "Epoch 66/100\n",
      "536/536 [==============================] - 1s 1ms/step - loss: 0.3649 - accuracy: 0.8457 - val_loss: 0.3742 - val_accuracy: 0.8459\n",
      "Epoch 67/100\n",
      "536/536 [==============================] - 1s 2ms/step - loss: 0.3620 - accuracy: 0.8492 - val_loss: 0.3747 - val_accuracy: 0.8474\n",
      "Epoch 68/100\n",
      "536/536 [==============================] - 1s 1ms/step - loss: 0.3662 - accuracy: 0.8440 - val_loss: 0.3790 - val_accuracy: 0.8413\n",
      "Epoch 69/100\n",
      "536/536 [==============================] - 1s 1ms/step - loss: 0.3686 - accuracy: 0.8466 - val_loss: 0.3813 - val_accuracy: 0.8395\n",
      "Epoch 70/100\n",
      "536/536 [==============================] - 1s 1ms/step - loss: 0.3686 - accuracy: 0.8434 - val_loss: 0.3758 - val_accuracy: 0.8395\n",
      "Epoch 71/100\n",
      "536/536 [==============================] - 1s 1ms/step - loss: 0.3685 - accuracy: 0.8477 - val_loss: 0.3797 - val_accuracy: 0.8376\n",
      "Epoch 72/100\n",
      "536/536 [==============================] - 1s 1ms/step - loss: 0.3642 - accuracy: 0.8457 - val_loss: 0.3786 - val_accuracy: 0.8410\n",
      "Epoch 73/100\n",
      "536/536 [==============================] - 1s 1ms/step - loss: 0.3645 - accuracy: 0.8494 - val_loss: 0.3837 - val_accuracy: 0.8364\n",
      "Epoch 74/100\n",
      "536/536 [==============================] - 1s 1ms/step - loss: 0.3649 - accuracy: 0.8472 - val_loss: 0.3787 - val_accuracy: 0.8429\n",
      "Epoch 75/100\n",
      "536/536 [==============================] - 1s 1ms/step - loss: 0.3631 - accuracy: 0.8513 - val_loss: 0.3773 - val_accuracy: 0.8429\n",
      "Epoch 76/100\n",
      "536/536 [==============================] - 1s 1ms/step - loss: 0.3673 - accuracy: 0.8462 - val_loss: 0.3839 - val_accuracy: 0.8342\n",
      "Epoch 77/100\n",
      "536/536 [==============================] - 1s 1ms/step - loss: 0.3640 - accuracy: 0.8459 - val_loss: 0.3800 - val_accuracy: 0.8360\n",
      "Epoch 78/100\n",
      "536/536 [==============================] - 1s 1ms/step - loss: 0.3627 - accuracy: 0.8479 - val_loss: 0.3805 - val_accuracy: 0.8417\n",
      "Epoch 79/100\n",
      "536/536 [==============================] - 1s 1ms/step - loss: 0.3682 - accuracy: 0.8447 - val_loss: 0.3783 - val_accuracy: 0.8410\n",
      "Epoch 80/100\n",
      "536/536 [==============================] - 1s 1ms/step - loss: 0.3633 - accuracy: 0.8438 - val_loss: 0.3829 - val_accuracy: 0.8368\n",
      "Epoch 81/100\n",
      "536/536 [==============================] - 1s 1ms/step - loss: 0.3660 - accuracy: 0.8459 - val_loss: 0.3885 - val_accuracy: 0.8360\n",
      "Epoch 82/100\n",
      "536/536 [==============================] - 1s 1ms/step - loss: 0.3628 - accuracy: 0.8462 - val_loss: 0.3729 - val_accuracy: 0.8451\n",
      "Epoch 83/100\n",
      "536/536 [==============================] - 1s 1ms/step - loss: 0.3662 - accuracy: 0.8455 - val_loss: 0.3754 - val_accuracy: 0.8444\n",
      "Epoch 84/100\n",
      "536/536 [==============================] - 1s 1ms/step - loss: 0.3696 - accuracy: 0.8457 - val_loss: 0.3732 - val_accuracy: 0.8466\n",
      "Epoch 85/100\n",
      "536/536 [==============================] - 1s 1ms/step - loss: 0.3605 - accuracy: 0.8483 - val_loss: 0.3864 - val_accuracy: 0.8368\n",
      "Epoch 86/100\n",
      "536/536 [==============================] - 1s 1ms/step - loss: 0.3623 - accuracy: 0.8462 - val_loss: 0.3793 - val_accuracy: 0.8387\n",
      "Epoch 87/100\n",
      "536/536 [==============================] - 1s 1ms/step - loss: 0.3652 - accuracy: 0.8470 - val_loss: 0.3773 - val_accuracy: 0.8425\n",
      "Epoch 88/100\n",
      "536/536 [==============================] - 1s 1ms/step - loss: 0.3640 - accuracy: 0.8459 - val_loss: 0.3749 - val_accuracy: 0.8432\n",
      "Epoch 89/100\n",
      "536/536 [==============================] - 1s 1ms/step - loss: 0.3673 - accuracy: 0.8459 - val_loss: 0.3798 - val_accuracy: 0.8398\n",
      "Epoch 90/100\n",
      "536/536 [==============================] - 1s 1ms/step - loss: 0.3694 - accuracy: 0.8429 - val_loss: 0.3754 - val_accuracy: 0.8485\n",
      "Epoch 91/100\n",
      "536/536 [==============================] - 1s 1ms/step - loss: 0.3632 - accuracy: 0.8477 - val_loss: 0.3776 - val_accuracy: 0.8451\n",
      "Epoch 92/100\n",
      "536/536 [==============================] - 1s 1ms/step - loss: 0.3681 - accuracy: 0.8466 - val_loss: 0.3769 - val_accuracy: 0.8406\n",
      "Epoch 93/100\n",
      "536/536 [==============================] - 1s 1ms/step - loss: 0.3636 - accuracy: 0.8475 - val_loss: 0.3807 - val_accuracy: 0.8376\n",
      "Epoch 94/100\n",
      "536/536 [==============================] - 1s 1ms/step - loss: 0.3624 - accuracy: 0.8485 - val_loss: 0.3713 - val_accuracy: 0.8501\n",
      "Epoch 95/100\n",
      "536/536 [==============================] - 1s 1ms/step - loss: 0.3676 - accuracy: 0.8416 - val_loss: 0.3802 - val_accuracy: 0.8395\n",
      "Epoch 96/100\n",
      "536/536 [==============================] - 1s 1ms/step - loss: 0.3686 - accuracy: 0.8416 - val_loss: 0.3771 - val_accuracy: 0.8391\n",
      "Epoch 97/100\n",
      "536/536 [==============================] - 1s 1ms/step - loss: 0.3686 - accuracy: 0.8446 - val_loss: 0.3845 - val_accuracy: 0.8383\n",
      "Epoch 98/100\n",
      "536/536 [==============================] - 2s 3ms/step - loss: 0.3636 - accuracy: 0.8503 - val_loss: 0.3806 - val_accuracy: 0.8451\n",
      "Epoch 99/100\n",
      "536/536 [==============================] - 1s 3ms/step - loss: 0.3657 - accuracy: 0.8447 - val_loss: 0.3775 - val_accuracy: 0.8451\n",
      "Epoch 100/100\n",
      "536/536 [==============================] - 1s 2ms/step - loss: 0.3641 - accuracy: 0.8466 - val_loss: 0.3835 - val_accuracy: 0.8349\n"
     ]
    },
    {
     "data": {
      "text/plain": [
       "dict_keys(['loss', 'accuracy', 'val_loss', 'val_accuracy'])"
      ]
     },
     "execution_count": 51,
     "metadata": {},
     "output_type": "execute_result"
    }
   ],
   "source": [
    "# initializing the ANN\n",
    "classifier = Sequential()\n",
    "\n",
    "# adding the input layer and the first hidden layer\n",
    "# he uniform works well with relu activation function\n",
    "classifier.add(Dense(units = 6,kernel_initializer = 'he_uniform',activation='relu',input_dim=11))\n",
    "\n",
    "# adding a dropout layer for regularization\n",
    "classifier.add(Dropout(0.3))\n",
    "\n",
    "\n",
    "# adding the second hidden layer\n",
    "classifier.add(Dense(units = 6,kernel_initializer= 'he_uniform',activation='relu'))\n",
    "\n",
    "# adding the output layer\n",
    "classifier.add(Dense(units = 1,kernel_initializer= 'glorot_uniform',activation='sigmoid'))\n",
    "\n",
    "# compiling the ANN\n",
    "# using adam optimizer\n",
    "# loss is binary_crossentropy since output is either 0 or 1\n",
    "classifier.compile(optimizer = 'adam',loss = 'binary_crossentropy',metrics=['accuracy'])\n",
    "\n",
    "#classifier.summary()\n",
    "\n",
    "# fitting the ANN to the training set\n",
    "model_history = classifier.fit(X_train,y_train,validation_split=0.33,batch_size=10,epochs =100)\n",
    "\n",
    "model_history.history.keys()"
   ]
  },
  {
   "attachments": {},
   "cell_type": "markdown",
   "metadata": {},
   "source": [
    "Visualizing the Model Performace ( Accuracy vs Epochs)"
   ]
  },
  {
   "cell_type": "code",
   "execution_count": 52,
   "metadata": {},
   "outputs": [
    {
     "data": {
      "text/plain": [
       "<matplotlib.legend.Legend at 0x1ed826469a0>"
      ]
     },
     "execution_count": 52,
     "metadata": {},
     "output_type": "execute_result"
    },
    {
     "data": {
      "image/png": "[encoded data removed]",
      "text/plain": [
       "<Figure size 640x480 with 1 Axes>"
      ]
     },
     "metadata": {},
     "output_type": "display_data"
    }
   ],
   "source": [
    "plt.plot(model_history.history['accuracy'])\n",
    "plt.plot(model_history.history['val_accuracy'])\n",
    "plt.title('Model Accuracy')\n",
    "plt.ylabel('Accuracy')\n",
    "plt.xlabel('Epoch')\n",
    "plt.legend(['train','test'],loc = 'upper left')"
   ]
  },
  {
   "attachments": {},
   "cell_type": "markdown",
   "metadata": {},
   "source": [
    "Making Predictions and Evaluating the Model"
   ]
  },
  {
   "cell_type": "code",
   "execution_count": 53,
   "metadata": {},
   "outputs": [
    {
     "name": "stdout",
     "output_type": "stream",
     "text": [
      "63/63 [==============================] - 0s 1ms/step\n",
      "Accuracy Score:  0.8395\n"
     ]
    },
    {
     "data": {
      "image/png": "[encoded data removed]",
      "text/plain": [
       "<Figure size 640x480 with 2 Axes>"
      ]
     },
     "metadata": {},
     "output_type": "display_data"
    }
   ],
   "source": [
    "y_pred = classifier.predict(X_test)\n",
    "y_pred = (y_pred>0.5)\n",
    "\n",
    "# Creating the confusion matrix\n",
    "from sklearn.metrics import confusion_matrix,ConfusionMatrixDisplay\n",
    "cm = confusion_matrix(y_test,y_pred)\n",
    "disp = ConfusionMatrixDisplay(confusion_matrix = cm)\n",
    "disp.plot()\n",
    "\n",
    "# calculate the accuracy of the model\n",
    "from sklearn.metrics import accuracy_score\n",
    "score = accuracy_score(y_pred,y_test)\n",
    "print(\"Accuracy Score: \",score)\n",
    "\n",
    "\n",
    "\n"
   ]
  }
 ],
 "metadata": {
  "kernelspec": {
   "display_name": "Python 3",
   "language": "python",
   "name": "python3"
  },
  "language_info": {
   "codemirror_mode": {
    "name": "ipython",
    "version": 3
   },
   "file_extension": ".py",
   "mimetype": "text/x-python",
   "name": "python",
   "nbconvert_exporter": "python",
   "pygments_lexer": "ipython3",
   "version": "3.8.7"
  },
  "orig_nbformat": 4,
  "vscode": {
   "interpreter": {
    "hash": "acbf6cdc673d6f8f0bf5af1115805dcfca6f0f9690047a1342b222764c99e2d3"
   }
  }
 },
 "nbformat": 4,
 "nbformat_minor": 2
}
